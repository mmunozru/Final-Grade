{
 "cells": [
  {
   "cell_type": "markdown",
   "metadata": {},
   "source": [
    "##### Goal of Script: Calculate the final exam needed for a desired course grade\n",
    "\n",
    "The function FinalGrade estimates what a student will need to get on their final exam to earn a specific letter grade (minus letters are excluded). For example, what score does a student need to get on their final exam to get an A in the class given their current scores on assignments and previous tests?\n"
   ]
  },
  {
   "cell_type": "markdown",
   "metadata": {},
   "source": [
    "##### Step 1: Define an artibitary class of students\n",
    "\n",
    "I created a class of four students (class_dict). Each student was given arbitary scores for their current progress in the course ordered by hw, test1, test2. Then I defined the weight of each course category i.e. grading scale (scale_dict). "
   ]
  },
  {
   "cell_type": "code",
   "execution_count": 1,
   "metadata": {},
   "outputs": [],
   "source": [
    "# Define class as nested dictionary\n",
    "class_dict = {('Marissa','Munoz'):{'Scores':[100,100,100]}, \n",
    "              ('Sam','Hawkins'):{'Scores':[95,90,80]},\n",
    "              ('Sam','Ruiz'):{'Scores':[100,72,65]},\n",
    "              ('Erica','Shelby'):{'Scores':[70,80,65]}}\n",
    "\n",
    "# Define grading scale as dictionary\n",
    "scale_dict = {'A':90,'B':80,'C':70,'D':60,'F':59}\n"
   ]
  },
  {
   "cell_type": "markdown",
   "metadata": {},
   "source": [
    "##### Step 2: Define Assumptions\n",
    "\n",
    "* Student/teacher knows the previous test & hw percentages i.e. class_dict\n",
    "* Student's first name differs from their last name\n",
    "* No two students have the same first & last name. \n",
    "\n",
    "Weighted Percentages: HW=20%  Test1=25%, Test2=25%, Final=30%\n",
    "Grading Scale: A=90-100%, B=80%-89%, C=70-79%, D=60-69%, F=0-59%"
   ]
  },
  {
   "cell_type": "markdown",
   "metadata": {},
   "source": [
    "##### Step 3: Create the FinalGrade function\n",
    "\n",
    "The function returns text that gives thes student's name, their scores on previous tests & homework assignments, the final exam grade needed, and a motivational message. "
   ]
  },
  {
   "cell_type": "code",
   "execution_count": 2,
   "metadata": {},
   "outputs": [],
   "source": [
    "def FinalGrade(FirstName, LastName, Desired_LetterGrade):\n",
    "    \"\"\"(str, str, str) -> str\n",
    "    This function calculates the final exam grade needed to get a specfic course grade (inputted by the user). \n",
    "    It returns the student's name, assignment scores, and the final exam score needed.\n",
    "    \n",
    "    \"\"\"\n",
    "    #Adjust inputs as needed i.e. spaces, lower case\n",
    "    First = FirstName.strip().lower().capitalize()\n",
    "    Last = LastName.strip().lower().capitalize()\n",
    "    Desired_Grade = Desired_LetterGrade.upper()\n",
    "    \n",
    "    #If student exists, then estimate Final Grade\n",
    "    if (First,Last) in class_dict:\n",
    "        #Get Student Scores \n",
    "        scores=[]\n",
    "        scores.append(class_dict[First,Last]['Scores'])\n",
    "        \n",
    "        #Calculate Final Grade Needed        \n",
    "        CurrentGrade = scores[0][0]*.20 + scores[0][1]*.25 + scores[0][2]*.25\n",
    "        Final = round((scale_dict[Desired_Grade] - CurrentGrade)/(0.30),2)\n",
    "        \n",
    "        #Message if Final Grade isn't possible\n",
    "        if Final > 100:\n",
    "            message = print(\"\"\"Student Name: {}  \n",
    "  Homework %: {}\n",
    "    Test 1 %: {}\n",
    "    Test 2 %: {}\n",
    "\n",
    "Desired Course Grade: {}\n",
    "Final Exam % Needed: {} \n",
    "\n",
    "Desired letter grade is not possible at this moment.\"\"\".format(First + \" \" + Last,scores[0][0],scores[0][1],scores[0][2],Desired_Grade,Final)) \n",
    "        \n",
    "        #Message if Final Grade is possible\n",
    "        else:\n",
    "            message = print(\"\"\"Student Name: {}  \n",
    "  Homework %: {}\n",
    "    Test 1 %: {}\n",
    "    Test 2 %: {}\n",
    "\n",
    "Desired Course Grade: {}\n",
    "Final Exam % Needed: {} \n",
    "\n",
    "Reach for the stars! \"\"\".format(First + \" \" + Last,scores[0][0],scores[0][1],scores[0][2],Desired_Grade,Final))\n",
    "    \n",
    "    #Message if student isn't listed in class\n",
    "    else:\n",
    "        message = print(\"Student is not listed. Check your spelling.\") #Message if student doesn't exist \n",
    "                     \n",
    "        return message\n"
   ]
  },
  {
   "cell_type": "markdown",
   "metadata": {},
   "source": [
    "##### Final Product: A function with three inputs (first name, last name, desired course grade)\n",
    "\n",
    "The user inputs the student's first name, last name, and the desired final course grade. These input arguments are not case sensitive and can have blank spaces. Input different students from the class and the desired course grade to see what happens!"
   ]
  },
  {
   "cell_type": "code",
   "execution_count": 3,
   "metadata": {},
   "outputs": [
    {
     "name": "stdout",
     "output_type": "stream",
     "text": [
      "Student Name: Marissa Munoz  \n",
      "  Homework %: 100\n",
      "    Test 1 %: 100\n",
      "    Test 2 %: 100\n",
      "\n",
      "Desired Course Grade: B\n",
      "Final Exam % Needed: 33.33 \n",
      "\n",
      "Reach for the stars! \n"
     ]
    }
   ],
   "source": [
    "#Change student name & final course grade \n",
    "FinalGrade('marisSa   ', 'munOz', 'B')\n"
   ]
  },
  {
   "cell_type": "markdown",
   "metadata": {},
   "source": [
    "---"
   ]
  }
 ],
 "metadata": {
  "celltoolbar": "Create Assignment",
  "kernelspec": {
   "display_name": "Python 3",
   "language": "python",
   "name": "python3"
  },
  "language_info": {
   "codemirror_mode": {
    "name": "ipython",
    "version": 3
   },
   "file_extension": ".py",
   "mimetype": "text/x-python",
   "name": "python",
   "nbconvert_exporter": "python",
   "pygments_lexer": "ipython3",
   "version": "3.7.3"
  }
 },
 "nbformat": 4,
 "nbformat_minor": 2
}
